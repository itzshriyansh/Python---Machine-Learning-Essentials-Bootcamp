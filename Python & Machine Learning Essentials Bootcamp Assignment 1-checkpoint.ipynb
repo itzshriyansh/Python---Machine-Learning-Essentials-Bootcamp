{
 "cells": [
  {
   "cell_type": "markdown",
   "id": "cc17a827",
   "metadata": {},
   "source": [
    "# Write a Python program which takes two digits m (row) and n (column) as input and generates a two-dimensional array. The element value in the i-th row and j-th column of the array should be i*j.\n",
    "\n",
    "Note :\n",
    "\n",
    "i = 0,1.., m-1\n",
    "\n",
    "j = 0,1, n-1."
   ]
  },
  {
   "cell_type": "code",
   "execution_count": 1,
   "id": "f696ebe4",
   "metadata": {},
   "outputs": [
    {
     "name": "stdout",
     "output_type": "stream",
     "text": [
      "Input num of rows: 4\n",
      "Input num of columns: 4\n",
      "[[0, 0, 0, 0], [0, 1, 2, 3], [0, 2, 4, 6], [0, 3, 6, 9]]\n"
     ]
    }
   ],
   "source": [
    "row_num = int(input(\"Input num of rows: \"))\n",
    "col_num = int(input(\"Input num of columns: \"))\n",
    "multi_list = [[0 for col in range(col_num)] for row in range(row_num)]\n",
    "\n",
    "for row in range(row_num):\n",
    "    for col in range(col_num):\n",
    "        multi_list[row][col]= row*col\n",
    "\n",
    "print(multi_list)"
   ]
  },
  {
   "cell_type": "code",
   "execution_count": null,
   "id": "838a5ded",
   "metadata": {},
   "outputs": [],
   "source": []
  }
 ],
 "metadata": {
  "kernelspec": {
   "display_name": "Python 3 (ipykernel)",
   "language": "python",
   "name": "python3"
  },
  "language_info": {
   "codemirror_mode": {
    "name": "ipython",
    "version": 3
   },
   "file_extension": ".py",
   "mimetype": "text/x-python",
   "name": "python",
   "nbconvert_exporter": "python",
   "pygments_lexer": "ipython3",
   "version": "3.9.7"
  }
 },
 "nbformat": 4,
 "nbformat_minor": 5
}
